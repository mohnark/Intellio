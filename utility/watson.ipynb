{
 "cells": [
  {
   "cell_type": "code",
   "execution_count": 4,
   "id": "37387a28-dff3-47f4-948a-77ea4201596f",
   "metadata": {},
   "outputs": [],
   "source": [
    "from ibm_watsonx_ai import APIClient\n",
    "from ibm_watsonx_ai import Credentials\n",
    "\n",
    "credentials = Credentials(\n",
    "                   url = \"https://us-south.ml.cloud.ibm.com\",\n",
    "                   api_key = \"up8pBF8-cuKF-rfUdplhWPrBKRIlg5SDmygOIcBWUg-2\"\n",
    "                  )\n",
    "\n",
    "client = APIClient(credentials)"
   ]
  },
  {
   "cell_type": "code",
   "execution_count": null,
   "id": "4ebd61e4-0407-4a77-8852-998506f63098",
   "metadata": {},
   "outputs": [],
   "source": []
  },
  {
   "cell_type": "code",
   "execution_count": null,
   "id": "58072a7d-87ef-405b-bbc2-322c11fffc96",
   "metadata": {},
   "outputs": [],
   "source": []
  }
 ],
 "metadata": {
  "kernelspec": {
   "display_name": "Python 3 (ipykernel)",
   "language": "python",
   "name": "python3"
  },
  "language_info": {
   "codemirror_mode": {
    "name": "ipython",
    "version": 3
   },
   "file_extension": ".py",
   "mimetype": "text/x-python",
   "name": "python",
   "nbconvert_exporter": "python",
   "pygments_lexer": "ipython3",
   "version": "3.11.10"
  }
 },
 "nbformat": 4,
 "nbformat_minor": 5
}
